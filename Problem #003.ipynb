{
 "cells": [
  {
   "cell_type": "markdown",
   "metadata": {},
   "source": [
    "Good morning! Here's your coding interview problem for today.\n",
    "\n",
    "This problem was asked by Google.\n",
    "\n",
    "Given the root to a binary tree, implement serialize(root), which serializes the tree into a string, and deserialize(s), which deserializes the string back into the tree.\n",
    "\n",
    "For example, given the following Node class\n",
    "\n",
    "class Node:\n",
    "\n",
    "    def __init__(self, val, left=None, right=None): \n",
    "        self.val = val\n",
    "        self.left = left\n",
    "        self.right = right\n",
    "The following test should pass:\n",
    "\n",
    "node = Node('root', Node('left', Node('left.left')), Node('right'))\n",
    "\n",
    "assert deserialize(serialize(node)).left.left.val == 'left.left'"
   ]
  },
  {
   "cell_type": "code",
   "execution_count": 111,
   "metadata": {},
   "outputs": [],
   "source": [
    "class Node:\n",
    "    def __init__(self, val, left=None, right=None):\n",
    "        self.val = val\n",
    "        self.left = left\n",
    "        self.right = right\n",
    "        \n",
    "def serialize(node):  \n",
    "    \n",
    "    def serializeHelper(node):\n",
    "        if node == None:\n",
    "            vals.append('#')\n",
    "            return\n",
    "\n",
    "        vals.append(node.val)\n",
    "        serializeHelper(node.left)\n",
    "        serializeHelper(node.right)\n",
    "        return \n",
    "\n",
    "    vals = []\n",
    "    serializeHelper(node)    \n",
    "    return ' '.join(vals)\n",
    "\n",
    "def deserialize(strTree):  \n",
    "    def deserializeHelper():\n",
    "        val = vals.pop(0)\n",
    "        if val == \"#\":\n",
    "            return None        \n",
    "        node = Node(val)\n",
    "        node.left = deserializeHelper()\n",
    "        node.right = deserializeHelper()\n",
    "        return node\n",
    "        \n",
    "    vals = strTree.split(' ')    \n",
    "    return deserializeHelper()\n"
   ]
  },
  {
   "cell_type": "code",
   "execution_count": 112,
   "metadata": {},
   "outputs": [
    {
     "name": "stdout",
     "output_type": "stream",
     "text": [
      "root left left.left # # # right # #\n",
      "root left left.left # # # right # #\n"
     ]
    }
   ],
   "source": [
    "\n",
    "strTree = serialize(node)\n",
    "print(strTree)\n",
    "node = deserialize(strTree)\n",
    "strTree = serialize(node)\n",
    "print(strTree)"
   ]
  },
  {
   "cell_type": "code",
   "execution_count": 113,
   "metadata": {},
   "outputs": [],
   "source": [
    "node = Node('root', Node('left', Node('left.left')), Node('right'))\n",
    "assert deserialize(serialize(node)).left.left.val == 'left.left'"
   ]
  }
 ],
 "metadata": {
  "kernelspec": {
   "display_name": "Python 3",
   "language": "python",
   "name": "python3"
  },
  "language_info": {
   "codemirror_mode": {
    "name": "ipython",
    "version": 3
   },
   "file_extension": ".py",
   "mimetype": "text/x-python",
   "name": "python",
   "nbconvert_exporter": "python",
   "pygments_lexer": "ipython3",
   "version": "3.6.5"
  }
 },
 "nbformat": 4,
 "nbformat_minor": 2
}
