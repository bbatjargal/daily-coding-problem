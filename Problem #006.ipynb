{
 "cells": [
  {
   "cell_type": "markdown",
   "metadata": {},
   "source": [
    "Good morning! Here's your coding interview problem for today.\n",
    "\n",
    "This problem was asked by Google.\n",
    "\n",
    "An XOR linked list is a more memory efficient doubly linked list. Instead of each node holding next and prev fields, it holds a field named both, which is an XOR of the next node and the previous node. Implement an XOR linked list; it has an add(element) which adds the element to the end, and a get(index) which returns the node at index.\n",
    "\n",
    "If using a language that has no pointers (such as Python), you can assume you have access to get_pointer and dereference_pointer functions that converts between nodes and memory addresses."
   ]
  },
  {
   "cell_type": "code",
   "execution_count": null,
   "metadata": {},
   "outputs": [],
   "source": [
    "class Node:\n",
    "    def __init__(self, val):\n",
    "        self.val = val\n",
    "        self.both = None\n",
    "        pass\n",
    "    \n",
    "class XORLinkedList:\n",
    "    def __init(self, head):\n",
    "        self.head = head\n",
    "        pass\n",
    "        \n",
    "    def add(self, val):\n",
    "        \n",
    "        node = self.head\n",
    "        prev = None\n",
    "        nxt = None\n",
    "        while node != None:\n",
    "            nxt = get_pointer(node.both) ^ get_pointer(prev)\n",
    "            \n",
    "            prev = node\n",
    "            node = nxt\n",
    "            \n",
    "        new_node = Node(val)\n",
    "        new_node.both = get_pointer(node) ^ get_pointer(None)\n",
    "        \n",
    "        nextnode = get_pointer(node.both) ^ get_pointer(None)\n",
    "        node.both = get_pointer(nextnode) ^ get_pointer(new_node)\n",
    "            \n",
    "        pass\n",
    "    \n",
    "    def get(self, index):\n",
    "        \n",
    "        \n",
    "        node = self.head\n",
    "        prev = None\n",
    "        nxt = None\n",
    "        indx = -1\n",
    "        \n",
    "        while node != None:\n",
    "            nxt = get_pointer(node.both) ^ get_pointer(prev)\n",
    "            \n",
    "            prev = node\n",
    "            node = nxt\n",
    "            indx +=1\n",
    "            if index == indx:\n",
    "                return node\n",
    "            \n",
    "        return None\n",
    "    "
   ]
  }
 ],
 "metadata": {
  "kernelspec": {
   "display_name": "Python 3",
   "language": "python",
   "name": "python3"
  },
  "language_info": {
   "codemirror_mode": {
    "name": "ipython",
    "version": 3
   },
   "file_extension": ".py",
   "mimetype": "text/x-python",
   "name": "python",
   "nbconvert_exporter": "python",
   "pygments_lexer": "ipython3",
   "version": "3.6.5"
  }
 },
 "nbformat": 4,
 "nbformat_minor": 2
}
