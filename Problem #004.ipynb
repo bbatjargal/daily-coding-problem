{
 "cells": [
  {
   "cell_type": "markdown",
   "metadata": {},
   "source": [
    "Good morning! Here's your coding interview problem for today.\n",
    "\n",
    "This problem was asked by Stripe.\n",
    "\n",
    "Given an array of integers, find the first missing positive integer in linear time and constant space. In other words, find the lowest positive integer that does not exist in the array. The array can contain duplicates and negative numbers as well.\n",
    "\n",
    "For example, the input [3, 4, -1, 1] should give 2. The input [1, 2, 0] should give 3.\n",
    "\n",
    "You can modify the input array in-place."
   ]
  },
  {
   "cell_type": "code",
   "execution_count": 19,
   "metadata": {},
   "outputs": [
    {
     "name": "stdout",
     "output_type": "stream",
     "text": [
      "2\n",
      "2\n",
      "3\n"
     ]
    }
   ],
   "source": [
    "def find_first_missing_int(arr):\n",
    "    max_val = max(arr)\n",
    "    \n",
    "    if max_val <= 0:\n",
    "        return 1\n",
    "    \n",
    "    values = set(arr)\n",
    "    for n in range(1, max_val+1):\n",
    "        if n not in values:\n",
    "            return n\n",
    "    return max_val+1\n",
    "    \n",
    "print(find_first_missing_int([3, 4, -1, 1]))\n",
    "print(find_first_missing_int([-3, -4, -1, 1]))\n",
    "print(find_first_missing_int([1, 2, 0]))"
   ]
  },
  {
   "cell_type": "code",
   "execution_count": null,
   "metadata": {},
   "outputs": [],
   "source": []
  }
 ],
 "metadata": {
  "kernelspec": {
   "display_name": "Python 3",
   "language": "python",
   "name": "python3"
  },
  "language_info": {
   "codemirror_mode": {
    "name": "ipython",
    "version": 3
   },
   "file_extension": ".py",
   "mimetype": "text/x-python",
   "name": "python",
   "nbconvert_exporter": "python",
   "pygments_lexer": "ipython3",
   "version": "3.6.5"
  }
 },
 "nbformat": 4,
 "nbformat_minor": 2
}
